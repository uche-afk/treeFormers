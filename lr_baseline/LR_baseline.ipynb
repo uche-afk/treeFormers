{
 "cells": [
  {
   "cell_type": "code",
   "execution_count": null,
   "metadata": {},
   "outputs": [],
   "source": [
    "\"\"\"This is an implementation from scratch of logistic regression for multi-class image classification on the ForestNet dataset. \n",
    "was completed using various pieces of online research.\"\"\""
   ]
  },
  {
   "cell_type": "code",
   "execution_count": 1,
   "id": "0ac4e1f9-e91d-4dd2-b239-24bdf7ab829a",
   "metadata": {
    "collapsed": true,
    "jupyter": {
     "outputs_hidden": true
    },
    "tags": []
   },
   "outputs": [
    {
     "data": {
      "application/javascript": "if (window.IPython && IPython.notebook.kernel) IPython.notebook.kernel.execute('jovian.utils.jupyter.get_notebook_name_saved = lambda: \"' + IPython.notebook.notebook_name + '\"')",
      "text/plain": [
       "<IPython.core.display.Javascript object>"
      ]
     },
     "metadata": {},
     "output_type": "display_data"
    },
    {
     "name": "stderr",
     "output_type": "stream",
     "text": [
      "/Users/uochuba/anaconda3/lib/python3.11/site-packages/torchvision/io/image.py:13: UserWarning: Failed to load image Python extension: 'dlopen(/Users/uochuba/anaconda3/lib/python3.11/site-packages/torchvision/image.so, 0x0006): Symbol not found: __ZN3c1017RegisterOperatorsD1Ev\n",
      "  Referenced from: <CFED5F8E-EC3F-36FD-AAA3-2C6C7F8D3DD9> /Users/uochuba/anaconda3/lib/python3.11/site-packages/torchvision/image.so\n",
      "  Expected in:     <7013222E-BE83-37D3-A6A7-75922143299C> /Users/uochuba/anaconda3/lib/python3.11/site-packages/torch/lib/libtorch_cpu.dylib'If you don't plan on using image functionality from `torchvision.io`, you can ignore this warning. Otherwise, there might be something wrong with your environment. Did you have `libjpeg` or `libpng` installed before building `torchvision` from source?\n",
      "  warn(\n"
     ]
    }
   ],
   "source": [
    "import torch\n",
    "import torchvision\n",
    "import string\n",
    "import torch.nn as nn\n",
    "import matplotlib.pyplot as plt\n",
    "import torch.nn.functional as F\n",
    "import pandas as pd\n",
    "import numpy as np\n",
    "import os\n",
    "from torch.utils.data import random_split\n",
    "from torch.utils.data import DataLoader\n",
    "from torch.utils.data import TensorDataset"
   ]
  },
  {
   "cell_type": "code",
   "execution_count": 92,
   "id": "e21778dd-8b0c-4f22-87b5-b561f7c2491a",
   "metadata": {
    "tags": []
   },
   "outputs": [],
   "source": [
    "# Hyperparameters\n",
    "batch_size = 8\n",
    "learning_rate = 1e-5\n",
    "\n",
    "# Other constants\n",
    "input_size = 128*128*3\n",
    "num_classes = 4"
   ]
  },
  {
   "cell_type": "code",
   "execution_count": 28,
   "id": "e826098d-c669-4ef3-b302-497a1ceec137",
   "metadata": {},
   "outputs": [],
   "source": [
    "# os.chdir('Documents/Stanford/Senior/CS229/LR_baseline/tree_sheet.csv')\n",
    "dataset = pd.read_csv('train_128_sheet.csv')\n",
    "valdataset = pd.read_csv('val_128_sheet.csv')\n",
    "testdataset = pd.read_csv('test_128_sheet.csv')\n",
    "num_rows = dataset.shape[0]\n",
    "# To map each label number to its corresponding letter\n",
    "id2label = {0: 'Grassland shrubland', 1: 'Other', 2: 'Plantation', 3: 'Smallholder agriculture'}"
   ]
  },
  {
   "cell_type": "code",
   "execution_count": 29,
   "id": "63555288-22a8-4ff8-b06e-6cc266dcd8c4",
   "metadata": {
    "tags": []
   },
   "outputs": [
    {
     "data": {
      "text/html": [
       "<div>\n",
       "<style scoped>\n",
       "    .dataframe tbody tr th:only-of-type {\n",
       "        vertical-align: middle;\n",
       "    }\n",
       "\n",
       "    .dataframe tbody tr th {\n",
       "        vertical-align: top;\n",
       "    }\n",
       "\n",
       "    .dataframe thead th {\n",
       "        text-align: right;\n",
       "    }\n",
       "</style>\n",
       "<table border=\"1\" class=\"dataframe\">\n",
       "  <thead>\n",
       "    <tr style=\"text-align: right;\">\n",
       "      <th></th>\n",
       "      <th>label</th>\n",
       "      <th>pixel0</th>\n",
       "      <th>pixel1</th>\n",
       "      <th>pixel2</th>\n",
       "      <th>pixel3</th>\n",
       "      <th>pixel4</th>\n",
       "      <th>pixel5</th>\n",
       "      <th>pixel6</th>\n",
       "      <th>pixel7</th>\n",
       "      <th>pixel8</th>\n",
       "      <th>...</th>\n",
       "      <th>pixel49142</th>\n",
       "      <th>pixel49143</th>\n",
       "      <th>pixel49144</th>\n",
       "      <th>pixel49145</th>\n",
       "      <th>pixel49146</th>\n",
       "      <th>pixel49147</th>\n",
       "      <th>pixel49148</th>\n",
       "      <th>pixel49149</th>\n",
       "      <th>pixel49150</th>\n",
       "      <th>pixel49151</th>\n",
       "    </tr>\n",
       "  </thead>\n",
       "  <tbody>\n",
       "    <tr>\n",
       "      <th>0</th>\n",
       "      <td>0</td>\n",
       "      <td>12</td>\n",
       "      <td>23</td>\n",
       "      <td>9</td>\n",
       "      <td>12</td>\n",
       "      <td>23</td>\n",
       "      <td>9</td>\n",
       "      <td>12</td>\n",
       "      <td>23</td>\n",
       "      <td>9</td>\n",
       "      <td>...</td>\n",
       "      <td>21</td>\n",
       "      <td>36</td>\n",
       "      <td>39</td>\n",
       "      <td>22</td>\n",
       "      <td>35</td>\n",
       "      <td>39</td>\n",
       "      <td>22</td>\n",
       "      <td>35</td>\n",
       "      <td>39</td>\n",
       "      <td>22</td>\n",
       "    </tr>\n",
       "    <tr>\n",
       "      <th>1</th>\n",
       "      <td>0</td>\n",
       "      <td>22</td>\n",
       "      <td>35</td>\n",
       "      <td>17</td>\n",
       "      <td>23</td>\n",
       "      <td>36</td>\n",
       "      <td>18</td>\n",
       "      <td>23</td>\n",
       "      <td>36</td>\n",
       "      <td>18</td>\n",
       "      <td>...</td>\n",
       "      <td>29</td>\n",
       "      <td>35</td>\n",
       "      <td>47</td>\n",
       "      <td>33</td>\n",
       "      <td>34</td>\n",
       "      <td>46</td>\n",
       "      <td>32</td>\n",
       "      <td>29</td>\n",
       "      <td>41</td>\n",
       "      <td>27</td>\n",
       "    </tr>\n",
       "    <tr>\n",
       "      <th>2</th>\n",
       "      <td>0</td>\n",
       "      <td>75</td>\n",
       "      <td>79</td>\n",
       "      <td>65</td>\n",
       "      <td>57</td>\n",
       "      <td>61</td>\n",
       "      <td>47</td>\n",
       "      <td>37</td>\n",
       "      <td>41</td>\n",
       "      <td>27</td>\n",
       "      <td>...</td>\n",
       "      <td>16</td>\n",
       "      <td>16</td>\n",
       "      <td>23</td>\n",
       "      <td>15</td>\n",
       "      <td>13</td>\n",
       "      <td>18</td>\n",
       "      <td>12</td>\n",
       "      <td>10</td>\n",
       "      <td>15</td>\n",
       "      <td>9</td>\n",
       "    </tr>\n",
       "    <tr>\n",
       "      <th>3</th>\n",
       "      <td>0</td>\n",
       "      <td>17</td>\n",
       "      <td>26</td>\n",
       "      <td>7</td>\n",
       "      <td>18</td>\n",
       "      <td>27</td>\n",
       "      <td>8</td>\n",
       "      <td>20</td>\n",
       "      <td>29</td>\n",
       "      <td>10</td>\n",
       "      <td>...</td>\n",
       "      <td>14</td>\n",
       "      <td>26</td>\n",
       "      <td>28</td>\n",
       "      <td>14</td>\n",
       "      <td>26</td>\n",
       "      <td>28</td>\n",
       "      <td>14</td>\n",
       "      <td>26</td>\n",
       "      <td>28</td>\n",
       "      <td>14</td>\n",
       "    </tr>\n",
       "    <tr>\n",
       "      <th>4</th>\n",
       "      <td>0</td>\n",
       "      <td>22</td>\n",
       "      <td>33</td>\n",
       "      <td>17</td>\n",
       "      <td>24</td>\n",
       "      <td>35</td>\n",
       "      <td>19</td>\n",
       "      <td>25</td>\n",
       "      <td>36</td>\n",
       "      <td>20</td>\n",
       "      <td>...</td>\n",
       "      <td>6</td>\n",
       "      <td>9</td>\n",
       "      <td>17</td>\n",
       "      <td>6</td>\n",
       "      <td>9</td>\n",
       "      <td>17</td>\n",
       "      <td>6</td>\n",
       "      <td>9</td>\n",
       "      <td>17</td>\n",
       "      <td>6</td>\n",
       "    </tr>\n",
       "  </tbody>\n",
       "</table>\n",
       "<p>5 rows × 49153 columns</p>\n",
       "</div>"
      ],
      "text/plain": [
       "   label  pixel0  pixel1  pixel2  pixel3  pixel4  pixel5  pixel6  pixel7  \\\n",
       "0      0      12      23       9      12      23       9      12      23   \n",
       "1      0      22      35      17      23      36      18      23      36   \n",
       "2      0      75      79      65      57      61      47      37      41   \n",
       "3      0      17      26       7      18      27       8      20      29   \n",
       "4      0      22      33      17      24      35      19      25      36   \n",
       "\n",
       "   pixel8  ...  pixel49142  pixel49143  pixel49144  pixel49145  pixel49146  \\\n",
       "0       9  ...          21          36          39          22          35   \n",
       "1      18  ...          29          35          47          33          34   \n",
       "2      27  ...          16          16          23          15          13   \n",
       "3      10  ...          14          26          28          14          26   \n",
       "4      20  ...           6           9          17           6           9   \n",
       "\n",
       "   pixel49147  pixel49148  pixel49149  pixel49150  pixel49151  \n",
       "0          39          22          35          39          22  \n",
       "1          46          32          29          41          27  \n",
       "2          18          12          10          15           9  \n",
       "3          28          14          26          28          14  \n",
       "4          17           6           9          17           6  \n",
       "\n",
       "[5 rows x 49153 columns]"
      ]
     },
     "execution_count": 29,
     "metadata": {},
     "output_type": "execute_result"
    }
   ],
   "source": [
    "dataset.head()"
   ]
  },
  {
   "cell_type": "code",
   "execution_count": 30,
   "id": "620ed97f-848e-4c11-90d1-20ea2d6f7dc1",
   "metadata": {
    "tags": []
   },
   "outputs": [],
   "source": [
    "def dataframe_to_array(dataframe):\n",
    "    # Make a copy of the original dataframe\n",
    "    dataframe1 = dataframe.copy(deep=True)\n",
    "    # Extract input & outupts as numpy arrays\n",
    "    inputs_array = dataframe1.iloc[:, 1:].to_numpy()\n",
    "    targets_array = dataframe1['label'].to_numpy()\n",
    "    return inputs_array, targets_array"
   ]
  },
  {
   "cell_type": "code",
   "execution_count": 31,
   "id": "264090e1-e32d-47f5-9158-f9a858808287",
   "metadata": {
    "tags": []
   },
   "outputs": [],
   "source": [
    "inputs_array, targets_array = dataframe_to_array(dataset)\n",
    "valinputs_array, valtargets_array = dataframe_to_array(valdataset)\n",
    "testinputs_array, testtargets_array = dataframe_to_array(testdataset)"
   ]
  },
  {
   "cell_type": "code",
   "execution_count": 32,
   "id": "1f2db0d1-b31f-4be4-9128-2c2f047fd273",
   "metadata": {
    "tags": []
   },
   "outputs": [],
   "source": [
    "inputs = torch.from_numpy(inputs_array).float()\n",
    "targets = torch.from_numpy(targets_array).long()\n",
    "valinputs = torch.from_numpy(valinputs_array).float()\n",
    "valtargets = torch.from_numpy(valtargets_array).long()\n",
    "testinputs = torch.from_numpy(testinputs_array).float()\n",
    "testtargets = torch.from_numpy(testtargets_array).long()"
   ]
  },
  {
   "cell_type": "code",
   "execution_count": 93,
   "id": "a4271206-fe5f-49eb-9ea1-838ed8abbcb1",
   "metadata": {
    "tags": []
   },
   "outputs": [],
   "source": [
    "# Training validation & test dataset\n",
    "dataset = TensorDataset(inputs, targets)\n",
    "valdataset = TensorDataset(valinputs, valtargets)\n",
    "testdataset = TensorDataset(testinputs, testtargets)\n",
    "\n",
    "# Dataloaders\n",
    "train_loader = DataLoader(dataset, batch_size, shuffle=True)\n",
    "val_loader = DataLoader(valdataset, batch_size*2)\n",
    "test_loader = DataLoader(testdataset, batch_size*2)"
   ]
  },
  {
   "cell_type": "code",
   "execution_count": 94,
   "id": "9d00dc10-a56c-4721-b70e-fb5bb52d21b9",
   "metadata": {
    "tags": []
   },
   "outputs": [],
   "source": [
    "class LRModel(nn.Module):\n",
    "    def __init__(self):\n",
    "        super().__init__()\n",
    "        self.linear = nn.Linear(input_size, num_classes)\n",
    "        \n",
    "    def forward(self, xb):\n",
    "        xb = xb.reshape(-1, 49152)\n",
    "        out = self.linear(xb)\n",
    "        return out\n",
    "    \n",
    "    def training_step(self, batch):\n",
    "        images, labels = batch \n",
    "        out = self(images)                  # Generate predictions\n",
    "        loss = F.cross_entropy(out, labels) # Calculate loss\n",
    "        return loss\n",
    "    \n",
    "    def validation_step(self, batch):\n",
    "        images, labels = batch \n",
    "        out = self(images)                    # Generate predictions\n",
    "        loss = F.cross_entropy(out, labels)   # Calculate loss\n",
    "        acc = accuracy(out, labels)           # Calculate accuracy\n",
    "        return {'val_loss': loss.detach(), 'val_acc': acc.detach()}\n",
    "        \n",
    "    def validation_epoch_end(self, outputs):\n",
    "        batch_losses = [x['val_loss'] for x in outputs]\n",
    "        epoch_loss = torch.stack(batch_losses).mean()   # Combine losses\n",
    "        batch_accs = [x['val_acc'] for x in outputs]\n",
    "        epoch_acc = torch.stack(batch_accs).mean()      # Combine accuracies\n",
    "        return {'val_loss': epoch_loss.item(), 'val_acc': epoch_acc.item()}\n",
    "    \n",
    "    def epoch_end(self, epoch, result):\n",
    "        print(\"Epoch [{}], val_loss: {:.4f}, val_acc: {:.4f}\".format(epoch, result['val_loss'], result['val_acc']))"
   ]
  },
  {
   "cell_type": "code",
   "execution_count": 95,
   "id": "086df06d-6cec-43c4-bfdb-31cb0ab63585",
   "metadata": {
    "tags": []
   },
   "outputs": [],
   "source": [
    "def accuracy(outputs, labels):\n",
    "    _, preds = torch.max(outputs, dim=1)\n",
    "    return torch.tensor(torch.sum(preds == labels).item() / len(preds))"
   ]
  },
  {
   "cell_type": "code",
   "execution_count": 96,
   "id": "1c4557a0-7fc0-4e95-87d7-82af23b9484a",
   "metadata": {
    "tags": []
   },
   "outputs": [],
   "source": [
    "def evaluate(model, val_loader):\n",
    "    outputs = [model.validation_step(batch) for batch in val_loader]\n",
    "    return model.validation_epoch_end(outputs)\n",
    "\n",
    "def fit(epochs, lr, model, train_loader, val_loader, opt_func=torch.optim.SGD):\n",
    "    history = []\n",
    "    optimizer = opt_func(model.parameters(), lr)\n",
    "    for epoch in range(epochs):\n",
    "        # Training Phase \n",
    "        for batch in train_loader:\n",
    "            loss = model.training_step(batch)\n",
    "            loss.backward()\n",
    "            optimizer.step()\n",
    "            optimizer.zero_grad()\n",
    "        # Validation phase\n",
    "        result = evaluate(model, val_loader)\n",
    "        model.epoch_end(epoch, result)\n",
    "        history.append(result)\n",
    "    return history"
   ]
  },
  {
   "cell_type": "code",
   "execution_count": 141,
   "id": "409d6f21-6260-4766-989f-296adab7d3f3",
   "metadata": {
    "tags": []
   },
   "outputs": [],
   "source": [
    "model = LRModel()"
   ]
  },
  {
   "cell_type": "code",
   "execution_count": 142,
   "id": "584f1eb0-7141-4db7-81db-407fe0cba1ba",
   "metadata": {
    "tags": []
   },
   "outputs": [
    {
     "data": {
      "text/plain": [
       "{'val_loss': 18.072843551635742, 'val_acc': 0.12916666269302368}"
      ]
     },
     "execution_count": 142,
     "metadata": {},
     "output_type": "execute_result"
    }
   ],
   "source": [
    "evaluate(model, val_loader)"
   ]
  },
  {
   "cell_type": "code",
   "execution_count": 143,
   "id": "ac6c31b6-861c-40b8-af7e-c534a71d39f5",
   "metadata": {
    "collapsed": true,
    "jupyter": {
     "outputs_hidden": true
    },
    "tags": []
   },
   "outputs": [
    {
     "name": "stdout",
     "output_type": "stream",
     "text": [
      "Epoch [0], val_loss: 5.0372, val_acc: 0.2824\n",
      "Epoch [1], val_loss: 5.0431, val_acc: 0.2882\n",
      "Epoch [2], val_loss: 4.9679, val_acc: 0.2928\n",
      "Epoch [3], val_loss: 4.9181, val_acc: 0.2991\n",
      "Epoch [4], val_loss: 4.9220, val_acc: 0.2907\n",
      "Epoch [5], val_loss: 4.8273, val_acc: 0.2949\n",
      "Epoch [6], val_loss: 4.8537, val_acc: 0.2907\n",
      "Epoch [7], val_loss: 4.7813, val_acc: 0.2970\n",
      "Epoch [8], val_loss: 4.7438, val_acc: 0.2970\n",
      "Epoch [9], val_loss: 4.7285, val_acc: 0.2907\n",
      "Epoch [10], val_loss: 4.6984, val_acc: 0.2949\n",
      "Epoch [11], val_loss: 4.6782, val_acc: 0.2970\n",
      "Epoch [12], val_loss: 4.6601, val_acc: 0.3095\n",
      "Epoch [13], val_loss: 4.6716, val_acc: 0.2949\n",
      "Epoch [14], val_loss: 4.6219, val_acc: 0.3053\n",
      "Epoch [15], val_loss: 4.6065, val_acc: 0.3053\n",
      "Epoch [16], val_loss: 4.5902, val_acc: 0.3074\n",
      "Epoch [17], val_loss: 4.5641, val_acc: 0.3032\n",
      "Epoch [18], val_loss: 4.5779, val_acc: 0.3012\n",
      "Epoch [19], val_loss: 4.5398, val_acc: 0.3095\n",
      "Epoch [20], val_loss: 4.5404, val_acc: 0.3053\n",
      "Epoch [21], val_loss: 4.5117, val_acc: 0.3116\n",
      "Epoch [22], val_loss: 4.4994, val_acc: 0.3095\n",
      "Epoch [23], val_loss: 4.5131, val_acc: 0.3032\n",
      "Epoch [24], val_loss: 4.4803, val_acc: 0.3137\n",
      "Epoch [25], val_loss: 4.4860, val_acc: 0.3095\n",
      "Epoch [26], val_loss: 4.4561, val_acc: 0.3116\n",
      "Epoch [27], val_loss: 4.4475, val_acc: 0.3137\n",
      "Epoch [28], val_loss: 4.4366, val_acc: 0.3095\n",
      "Epoch [29], val_loss: 4.4259, val_acc: 0.3053\n",
      "Epoch [30], val_loss: 4.4101, val_acc: 0.2991\n",
      "Epoch [31], val_loss: 4.4166, val_acc: 0.3137\n",
      "Epoch [32], val_loss: 4.3926, val_acc: 0.3053\n",
      "Epoch [33], val_loss: 4.3843, val_acc: 0.3012\n",
      "Epoch [34], val_loss: 4.3754, val_acc: 0.2991\n",
      "Epoch [35], val_loss: 4.3721, val_acc: 0.3053\n",
      "Epoch [36], val_loss: 4.3720, val_acc: 0.3116\n",
      "Epoch [37], val_loss: 4.3680, val_acc: 0.3095\n",
      "Epoch [38], val_loss: 4.3527, val_acc: 0.3137\n",
      "Epoch [39], val_loss: 4.3407, val_acc: 0.3074\n",
      "Epoch [40], val_loss: 4.3419, val_acc: 0.3116\n",
      "Epoch [41], val_loss: 4.3255, val_acc: 0.3095\n",
      "Epoch [42], val_loss: 4.3262, val_acc: 0.3157\n",
      "Epoch [43], val_loss: 4.3179, val_acc: 0.3178\n",
      "Epoch [44], val_loss: 4.3035, val_acc: 0.3053\n",
      "Epoch [45], val_loss: 4.3350, val_acc: 0.3220\n",
      "Epoch [46], val_loss: 4.2975, val_acc: 0.3137\n",
      "Epoch [47], val_loss: 4.2944, val_acc: 0.3199\n",
      "Epoch [48], val_loss: 4.2818, val_acc: 0.3116\n",
      "Epoch [49], val_loss: 4.2845, val_acc: 0.3199\n",
      "Epoch [50], val_loss: 4.2781, val_acc: 0.3178\n",
      "Epoch [51], val_loss: 4.2636, val_acc: 0.3095\n",
      "Epoch [52], val_loss: 4.2613, val_acc: 0.3220\n",
      "Epoch [53], val_loss: 4.2523, val_acc: 0.3074\n",
      "Epoch [54], val_loss: 4.2545, val_acc: 0.3241\n",
      "Epoch [55], val_loss: 4.2561, val_acc: 0.3178\n",
      "Epoch [56], val_loss: 4.2402, val_acc: 0.3116\n",
      "Epoch [57], val_loss: 4.2373, val_acc: 0.3157\n",
      "Epoch [58], val_loss: 4.2293, val_acc: 0.3157\n",
      "Epoch [59], val_loss: 4.2279, val_acc: 0.3220\n",
      "Epoch [60], val_loss: 4.2258, val_acc: 0.3178\n",
      "Epoch [61], val_loss: 4.2290, val_acc: 0.3220\n",
      "Epoch [62], val_loss: 4.2215, val_acc: 0.3199\n",
      "Epoch [63], val_loss: 4.2098, val_acc: 0.3199\n",
      "Epoch [64], val_loss: 4.2046, val_acc: 0.3157\n",
      "Epoch [65], val_loss: 4.2144, val_acc: 0.3236\n",
      "Epoch [66], val_loss: 4.2022, val_acc: 0.3199\n",
      "Epoch [67], val_loss: 4.1922, val_acc: 0.3178\n",
      "Epoch [68], val_loss: 4.1949, val_acc: 0.3157\n",
      "Epoch [69], val_loss: 4.1924, val_acc: 0.3282\n",
      "Epoch [70], val_loss: 4.1803, val_acc: 0.3199\n",
      "Epoch [71], val_loss: 4.1761, val_acc: 0.3199\n",
      "Epoch [72], val_loss: 4.1723, val_acc: 0.3199\n",
      "Epoch [73], val_loss: 4.1814, val_acc: 0.3153\n",
      "Epoch [74], val_loss: 4.1736, val_acc: 0.3282\n",
      "Epoch [75], val_loss: 4.1701, val_acc: 0.3157\n",
      "Epoch [76], val_loss: 4.1660, val_acc: 0.3303\n",
      "Epoch [77], val_loss: 4.1579, val_acc: 0.3157\n",
      "Epoch [78], val_loss: 4.1626, val_acc: 0.3241\n",
      "Epoch [79], val_loss: 4.1550, val_acc: 0.3220\n",
      "Epoch [80], val_loss: 4.1759, val_acc: 0.3387\n",
      "Epoch [81], val_loss: 4.1437, val_acc: 0.3157\n",
      "Epoch [82], val_loss: 4.1430, val_acc: 0.3157\n",
      "Epoch [83], val_loss: 4.1432, val_acc: 0.3282\n",
      "Epoch [84], val_loss: 4.1349, val_acc: 0.3220\n",
      "Epoch [85], val_loss: 4.1321, val_acc: 0.3282\n",
      "Epoch [86], val_loss: 4.1540, val_acc: 0.3345\n",
      "Epoch [87], val_loss: 4.1322, val_acc: 0.3278\n",
      "Epoch [88], val_loss: 4.1243, val_acc: 0.3282\n",
      "Epoch [89], val_loss: 4.1208, val_acc: 0.3178\n",
      "Epoch [90], val_loss: 4.1215, val_acc: 0.3278\n",
      "Epoch [91], val_loss: 4.1150, val_acc: 0.3241\n",
      "Epoch [92], val_loss: 4.1130, val_acc: 0.3199\n",
      "Epoch [93], val_loss: 4.1204, val_acc: 0.3174\n",
      "Epoch [94], val_loss: 4.1075, val_acc: 0.3262\n",
      "Epoch [95], val_loss: 4.1012, val_acc: 0.3157\n",
      "Epoch [96], val_loss: 4.1040, val_acc: 0.3157\n",
      "Epoch [97], val_loss: 4.0980, val_acc: 0.3282\n",
      "Epoch [98], val_loss: 4.0999, val_acc: 0.3282\n",
      "Epoch [99], val_loss: 4.0985, val_acc: 0.3194\n",
      "Epoch [100], val_loss: 4.0909, val_acc: 0.3241\n",
      "Epoch [101], val_loss: 4.0858, val_acc: 0.3241\n",
      "Epoch [102], val_loss: 4.0917, val_acc: 0.3132\n",
      "Epoch [103], val_loss: 4.0823, val_acc: 0.3157\n",
      "Epoch [104], val_loss: 4.0875, val_acc: 0.3132\n",
      "Epoch [105], val_loss: 4.0747, val_acc: 0.3220\n",
      "Epoch [106], val_loss: 4.0761, val_acc: 0.3220\n",
      "Epoch [107], val_loss: 4.0858, val_acc: 0.3111\n",
      "Epoch [108], val_loss: 4.0781, val_acc: 0.3257\n",
      "Epoch [109], val_loss: 4.0769, val_acc: 0.3366\n",
      "Epoch [110], val_loss: 4.0646, val_acc: 0.3220\n",
      "Epoch [111], val_loss: 4.0727, val_acc: 0.3257\n",
      "Epoch [112], val_loss: 4.0627, val_acc: 0.3174\n",
      "Epoch [113], val_loss: 4.0723, val_acc: 0.3257\n",
      "Epoch [114], val_loss: 4.0551, val_acc: 0.3178\n",
      "Epoch [115], val_loss: 4.0691, val_acc: 0.3345\n",
      "Epoch [116], val_loss: 4.0532, val_acc: 0.3282\n",
      "Epoch [117], val_loss: 4.0610, val_acc: 0.3407\n",
      "Epoch [118], val_loss: 4.0475, val_acc: 0.3220\n",
      "Epoch [119], val_loss: 4.0507, val_acc: 0.3194\n",
      "Epoch [120], val_loss: 4.0446, val_acc: 0.3220\n",
      "Epoch [121], val_loss: 4.0419, val_acc: 0.3194\n",
      "Epoch [122], val_loss: 4.0399, val_acc: 0.3303\n",
      "Epoch [123], val_loss: 4.0391, val_acc: 0.3282\n",
      "Epoch [124], val_loss: 4.0376, val_acc: 0.3262\n",
      "Epoch [125], val_loss: 4.0444, val_acc: 0.3132\n",
      "Epoch [126], val_loss: 4.0341, val_acc: 0.3174\n",
      "Epoch [127], val_loss: 4.0280, val_acc: 0.3262\n",
      "Epoch [128], val_loss: 4.0283, val_acc: 0.3303\n",
      "Epoch [129], val_loss: 4.0279, val_acc: 0.3324\n",
      "Epoch [130], val_loss: 4.0235, val_acc: 0.3257\n",
      "Epoch [131], val_loss: 4.0217, val_acc: 0.3262\n",
      "Epoch [132], val_loss: 4.0303, val_acc: 0.3215\n",
      "Epoch [133], val_loss: 4.0305, val_acc: 0.3345\n",
      "Epoch [134], val_loss: 4.0158, val_acc: 0.3262\n",
      "Epoch [135], val_loss: 4.0143, val_acc: 0.3241\n",
      "Epoch [136], val_loss: 4.0130, val_acc: 0.3236\n",
      "Epoch [137], val_loss: 4.0121, val_acc: 0.3241\n",
      "Epoch [138], val_loss: 4.0086, val_acc: 0.3262\n",
      "Epoch [139], val_loss: 4.0075, val_acc: 0.3241\n",
      "Epoch [140], val_loss: 4.0091, val_acc: 0.3282\n",
      "Epoch [141], val_loss: 4.0109, val_acc: 0.3282\n",
      "Epoch [142], val_loss: 4.0032, val_acc: 0.3324\n",
      "Epoch [143], val_loss: 3.9979, val_acc: 0.3241\n",
      "Epoch [144], val_loss: 3.9966, val_acc: 0.3282\n",
      "Epoch [145], val_loss: 4.0034, val_acc: 0.3132\n",
      "Epoch [146], val_loss: 3.9930, val_acc: 0.3299\n",
      "Epoch [147], val_loss: 3.9903, val_acc: 0.3241\n",
      "Epoch [148], val_loss: 3.9912, val_acc: 0.3303\n",
      "Epoch [149], val_loss: 3.9880, val_acc: 0.3278\n",
      "Epoch [150], val_loss: 3.9958, val_acc: 0.3194\n",
      "Epoch [151], val_loss: 3.9840, val_acc: 0.3282\n",
      "Epoch [152], val_loss: 3.9869, val_acc: 0.3278\n",
      "Epoch [153], val_loss: 3.9810, val_acc: 0.3282\n",
      "Epoch [154], val_loss: 3.9817, val_acc: 0.3262\n",
      "Epoch [155], val_loss: 3.9824, val_acc: 0.3257\n",
      "Epoch [156], val_loss: 3.9766, val_acc: 0.3282\n",
      "Epoch [157], val_loss: 3.9818, val_acc: 0.3324\n",
      "Epoch [158], val_loss: 3.9739, val_acc: 0.3257\n",
      "Epoch [159], val_loss: 3.9806, val_acc: 0.3345\n",
      "Epoch [160], val_loss: 3.9704, val_acc: 0.3199\n",
      "Epoch [161], val_loss: 3.9715, val_acc: 0.3345\n",
      "Epoch [162], val_loss: 3.9712, val_acc: 0.3282\n",
      "Epoch [163], val_loss: 3.9693, val_acc: 0.3241\n",
      "Epoch [164], val_loss: 3.9648, val_acc: 0.3278\n",
      "Epoch [165], val_loss: 3.9822, val_acc: 0.3387\n",
      "Epoch [166], val_loss: 3.9609, val_acc: 0.3278\n",
      "Epoch [167], val_loss: 3.9676, val_acc: 0.3407\n",
      "Epoch [168], val_loss: 3.9589, val_acc: 0.3303\n",
      "Epoch [169], val_loss: 3.9726, val_acc: 0.3407\n",
      "Epoch [170], val_loss: 3.9600, val_acc: 0.3345\n",
      "Epoch [171], val_loss: 3.9529, val_acc: 0.3303\n",
      "Epoch [172], val_loss: 3.9525, val_acc: 0.3262\n",
      "Epoch [173], val_loss: 3.9748, val_acc: 0.3407\n",
      "Epoch [174], val_loss: 3.9491, val_acc: 0.3303\n",
      "Epoch [175], val_loss: 3.9516, val_acc: 0.3174\n",
      "Epoch [176], val_loss: 3.9528, val_acc: 0.3282\n",
      "Epoch [177], val_loss: 3.9446, val_acc: 0.3319\n",
      "Epoch [178], val_loss: 3.9478, val_acc: 0.3215\n",
      "Epoch [179], val_loss: 3.9425, val_acc: 0.3278\n",
      "Epoch [180], val_loss: 3.9421, val_acc: 0.3345\n",
      "Epoch [181], val_loss: 3.9521, val_acc: 0.3324\n",
      "Epoch [182], val_loss: 3.9513, val_acc: 0.3345\n",
      "Epoch [183], val_loss: 3.9382, val_acc: 0.3303\n",
      "Epoch [184], val_loss: 3.9439, val_acc: 0.3345\n",
      "Epoch [185], val_loss: 3.9403, val_acc: 0.3282\n",
      "Epoch [186], val_loss: 3.9461, val_acc: 0.3428\n",
      "Epoch [187], val_loss: 3.9328, val_acc: 0.3387\n",
      "Epoch [188], val_loss: 3.9306, val_acc: 0.3345\n",
      "Epoch [189], val_loss: 3.9296, val_acc: 0.3303\n",
      "Epoch [190], val_loss: 3.9373, val_acc: 0.3366\n",
      "Epoch [191], val_loss: 3.9333, val_acc: 0.3262\n",
      "Epoch [192], val_loss: 3.9318, val_acc: 0.3345\n",
      "Epoch [193], val_loss: 3.9263, val_acc: 0.3215\n",
      "Epoch [194], val_loss: 3.9250, val_acc: 0.3387\n",
      "Epoch [195], val_loss: 3.9201, val_acc: 0.3366\n",
      "Epoch [196], val_loss: 3.9202, val_acc: 0.3194\n",
      "Epoch [197], val_loss: 3.9216, val_acc: 0.3299\n",
      "Epoch [198], val_loss: 3.9190, val_acc: 0.3153\n",
      "Epoch [199], val_loss: 3.9188, val_acc: 0.3366\n"
     ]
    }
   ],
   "source": [
    "history = fit(200, 1e-8, model, train_loader, val_loader)"
   ]
  },
  {
   "cell_type": "code",
   "execution_count": 144,
   "id": "0f3b6372-67a0-436f-a482-2f9dca34e167",
   "metadata": {
    "tags": []
   },
   "outputs": [
    {
     "data": {
      "image/png": "[encoded data removed]",
      "text/plain": [
       "<Figure size 640x480 with 1 Axes>"
      ]
     },
     "metadata": {},
     "output_type": "display_data"
    }
   ],
   "source": [
    "accuracies = [r['val_acc'] for r in history[:150]]\n",
    "plt.plot(accuracies, '-x')\n",
    "plt.xlabel('epoch')\n",
    "plt.ylabel('accuracy')\n",
    "plt.title('Accuracy vs. No. of epochs');"
   ]
  },
  {
   "cell_type": "code",
   "execution_count": 145,
   "id": "c13b613f-4060-48c2-9f61-b98f63ea1780",
   "metadata": {
    "tags": []
   },
   "outputs": [
    {
     "data": {
      "image/png": "[encoded data removed]",
      "text/plain": [
       "<Figure size 640x480 with 1 Axes>"
      ]
     },
     "metadata": {},
     "output_type": "display_data"
    }
   ],
   "source": [
    "losses = [r['val_loss'] for r in history[:150]]\n",
    "plt.plot(losses)\n",
    "plt.xlabel('epoch')\n",
    "plt.ylabel('loss')\n",
    "plt.title('Loss vs. No. of epochs');"
   ]
  },
  {
   "cell_type": "code",
   "execution_count": 148,
   "id": "bbce390c-3a00-4cc9-8479-c9871c208ff0",
   "metadata": {
    "tags": []
   },
   "outputs": [],
   "source": [
    "model = LRModel()"
   ]
  },
  {
   "cell_type": "code",
   "execution_count": 149,
   "id": "adffcd19-2a24-4de4-8899-addd0517e41d",
   "metadata": {
    "tags": []
   },
   "outputs": [
    {
     "data": {
      "text/plain": [
       "{'val_loss': 28.54311752319336, 'val_acc': 0.13958333432674408}"
      ]
     },
     "execution_count": 149,
     "metadata": {},
     "output_type": "execute_result"
    }
   ],
   "source": [
    "evaluate(model, val_loader)"
   ]
  },
  {
   "cell_type": "code",
   "execution_count": 150,
   "id": "d6d4f95e-90dc-4f37-bf0e-a3c13fdc5650",
   "metadata": {
    "collapsed": true,
    "jupyter": {
     "outputs_hidden": true
    },
    "tags": []
   },
   "outputs": [
    {
     "name": "stdout",
     "output_type": "stream",
     "text": [
      "Epoch [0], val_loss: 23.1050, val_acc: 0.1396\n",
      "Epoch [1], val_loss: 17.8246, val_acc: 0.1333\n",
      "Epoch [2], val_loss: 13.1142, val_acc: 0.1396\n",
      "Epoch [3], val_loss: 9.5587, val_acc: 0.1562\n",
      "Epoch [4], val_loss: 7.3238, val_acc: 0.1979\n",
      "Epoch [5], val_loss: 6.1865, val_acc: 0.2475\n",
      "Epoch [6], val_loss: 5.6703, val_acc: 0.2620\n",
      "Epoch [7], val_loss: 5.4240, val_acc: 0.2907\n",
      "Epoch [8], val_loss: 5.3048, val_acc: 0.3111\n",
      "Epoch [9], val_loss: 5.2426, val_acc: 0.3194\n",
      "Epoch [10], val_loss: 5.2097, val_acc: 0.3236\n",
      "Epoch [11], val_loss: 5.1920, val_acc: 0.3257\n",
      "Epoch [12], val_loss: 5.1824, val_acc: 0.3299\n",
      "Epoch [13], val_loss: 5.1764, val_acc: 0.3382\n",
      "Epoch [14], val_loss: 5.1731, val_acc: 0.3340\n",
      "Epoch [15], val_loss: 5.1708, val_acc: 0.3340\n",
      "Epoch [16], val_loss: 5.1687, val_acc: 0.3340\n",
      "Epoch [17], val_loss: 5.1669, val_acc: 0.3319\n",
      "Epoch [18], val_loss: 5.1649, val_acc: 0.3319\n",
      "Epoch [19], val_loss: 5.1630, val_acc: 0.3315\n",
      "Epoch [20], val_loss: 5.1606, val_acc: 0.3294\n",
      "Epoch [21], val_loss: 5.1582, val_acc: 0.3294\n",
      "Epoch [22], val_loss: 5.1554, val_acc: 0.3294\n",
      "Epoch [23], val_loss: 5.1525, val_acc: 0.3273\n",
      "Epoch [24], val_loss: 5.1495, val_acc: 0.3273\n",
      "Epoch [25], val_loss: 5.1469, val_acc: 0.3273\n",
      "Epoch [26], val_loss: 5.1438, val_acc: 0.3273\n",
      "Epoch [27], val_loss: 5.1407, val_acc: 0.3273\n",
      "Epoch [28], val_loss: 5.1373, val_acc: 0.3273\n",
      "Epoch [29], val_loss: 5.1341, val_acc: 0.3273\n",
      "Epoch [30], val_loss: 5.1309, val_acc: 0.3252\n",
      "Epoch [31], val_loss: 5.1273, val_acc: 0.3252\n",
      "Epoch [32], val_loss: 5.1239, val_acc: 0.3294\n",
      "Epoch [33], val_loss: 5.1205, val_acc: 0.3231\n",
      "Epoch [34], val_loss: 5.1172, val_acc: 0.3231\n",
      "Epoch [35], val_loss: 5.1139, val_acc: 0.3231\n",
      "Epoch [36], val_loss: 5.1105, val_acc: 0.3231\n",
      "Epoch [37], val_loss: 5.1070, val_acc: 0.3252\n",
      "Epoch [38], val_loss: 5.1036, val_acc: 0.3231\n",
      "Epoch [39], val_loss: 5.1003, val_acc: 0.3252\n",
      "Epoch [40], val_loss: 5.0970, val_acc: 0.3252\n",
      "Epoch [41], val_loss: 5.0934, val_acc: 0.3273\n",
      "Epoch [42], val_loss: 5.0900, val_acc: 0.3273\n",
      "Epoch [43], val_loss: 5.0866, val_acc: 0.3273\n",
      "Epoch [44], val_loss: 5.0834, val_acc: 0.3273\n",
      "Epoch [45], val_loss: 5.0802, val_acc: 0.3273\n",
      "Epoch [46], val_loss: 5.0770, val_acc: 0.3252\n",
      "Epoch [47], val_loss: 5.0737, val_acc: 0.3273\n",
      "Epoch [48], val_loss: 5.0704, val_acc: 0.3273\n",
      "Epoch [49], val_loss: 5.0670, val_acc: 0.3273\n",
      "Epoch [50], val_loss: 5.0636, val_acc: 0.3294\n",
      "Epoch [51], val_loss: 5.0606, val_acc: 0.3273\n",
      "Epoch [52], val_loss: 5.0574, val_acc: 0.3273\n",
      "Epoch [53], val_loss: 5.0540, val_acc: 0.3294\n",
      "Epoch [54], val_loss: 5.0508, val_acc: 0.3294\n",
      "Epoch [55], val_loss: 5.0471, val_acc: 0.3294\n",
      "Epoch [56], val_loss: 5.0437, val_acc: 0.3294\n",
      "Epoch [57], val_loss: 5.0405, val_acc: 0.3294\n",
      "Epoch [58], val_loss: 5.0375, val_acc: 0.3273\n",
      "Epoch [59], val_loss: 5.0339, val_acc: 0.3294\n",
      "Epoch [60], val_loss: 5.0307, val_acc: 0.3294\n",
      "Epoch [61], val_loss: 5.0274, val_acc: 0.3294\n",
      "Epoch [62], val_loss: 5.0244, val_acc: 0.3294\n",
      "Epoch [63], val_loss: 5.0213, val_acc: 0.3294\n",
      "Epoch [64], val_loss: 5.0183, val_acc: 0.3294\n",
      "Epoch [65], val_loss: 5.0149, val_acc: 0.3294\n",
      "Epoch [66], val_loss: 5.0116, val_acc: 0.3294\n",
      "Epoch [67], val_loss: 5.0087, val_acc: 0.3294\n",
      "Epoch [68], val_loss: 5.0055, val_acc: 0.3294\n",
      "Epoch [69], val_loss: 5.0024, val_acc: 0.3294\n",
      "Epoch [70], val_loss: 4.9993, val_acc: 0.3294\n",
      "Epoch [71], val_loss: 4.9964, val_acc: 0.3294\n",
      "Epoch [72], val_loss: 4.9933, val_acc: 0.3273\n",
      "Epoch [73], val_loss: 4.9902, val_acc: 0.3273\n",
      "Epoch [74], val_loss: 4.9871, val_acc: 0.3273\n",
      "Epoch [75], val_loss: 4.9838, val_acc: 0.3294\n",
      "Epoch [76], val_loss: 4.9808, val_acc: 0.3294\n",
      "Epoch [77], val_loss: 4.9777, val_acc: 0.3294\n",
      "Epoch [78], val_loss: 4.9748, val_acc: 0.3315\n",
      "Epoch [79], val_loss: 4.9717, val_acc: 0.3294\n",
      "Epoch [80], val_loss: 4.9687, val_acc: 0.3315\n",
      "Epoch [81], val_loss: 4.9655, val_acc: 0.3294\n",
      "Epoch [82], val_loss: 4.9625, val_acc: 0.3294\n",
      "Epoch [83], val_loss: 4.9595, val_acc: 0.3294\n",
      "Epoch [84], val_loss: 4.9565, val_acc: 0.3294\n",
      "Epoch [85], val_loss: 4.9537, val_acc: 0.3315\n",
      "Epoch [86], val_loss: 4.9506, val_acc: 0.3294\n",
      "Epoch [87], val_loss: 4.9481, val_acc: 0.3315\n",
      "Epoch [88], val_loss: 4.9453, val_acc: 0.3315\n",
      "Epoch [89], val_loss: 4.9428, val_acc: 0.3315\n",
      "Epoch [90], val_loss: 4.9395, val_acc: 0.3336\n",
      "Epoch [91], val_loss: 4.9367, val_acc: 0.3315\n",
      "Epoch [92], val_loss: 4.9339, val_acc: 0.3315\n",
      "Epoch [93], val_loss: 4.9311, val_acc: 0.3356\n",
      "Epoch [94], val_loss: 4.9280, val_acc: 0.3336\n",
      "Epoch [95], val_loss: 4.9252, val_acc: 0.3356\n",
      "Epoch [96], val_loss: 4.9221, val_acc: 0.3336\n",
      "Epoch [97], val_loss: 4.9193, val_acc: 0.3356\n",
      "Epoch [98], val_loss: 4.9163, val_acc: 0.3356\n",
      "Epoch [99], val_loss: 4.9132, val_acc: 0.3315\n",
      "Epoch [100], val_loss: 4.9105, val_acc: 0.3356\n",
      "Epoch [101], val_loss: 4.9078, val_acc: 0.3356\n",
      "Epoch [102], val_loss: 4.9048, val_acc: 0.3356\n",
      "Epoch [103], val_loss: 4.9024, val_acc: 0.3398\n",
      "Epoch [104], val_loss: 4.8995, val_acc: 0.3356\n",
      "Epoch [105], val_loss: 4.8970, val_acc: 0.3398\n",
      "Epoch [106], val_loss: 4.8939, val_acc: 0.3398\n",
      "Epoch [107], val_loss: 4.8910, val_acc: 0.3356\n",
      "Epoch [108], val_loss: 4.8883, val_acc: 0.3377\n",
      "Epoch [109], val_loss: 4.8860, val_acc: 0.3398\n",
      "Epoch [110], val_loss: 4.8834, val_acc: 0.3398\n",
      "Epoch [111], val_loss: 4.8804, val_acc: 0.3419\n",
      "Epoch [112], val_loss: 4.8778, val_acc: 0.3419\n",
      "Epoch [113], val_loss: 4.8756, val_acc: 0.3398\n",
      "Epoch [114], val_loss: 4.8730, val_acc: 0.3398\n",
      "Epoch [115], val_loss: 4.8700, val_acc: 0.3398\n",
      "Epoch [116], val_loss: 4.8670, val_acc: 0.3419\n",
      "Epoch [117], val_loss: 4.8648, val_acc: 0.3398\n",
      "Epoch [118], val_loss: 4.8620, val_acc: 0.3398\n",
      "Epoch [119], val_loss: 4.8596, val_acc: 0.3398\n",
      "Epoch [120], val_loss: 4.8568, val_acc: 0.3398\n",
      "Epoch [121], val_loss: 4.8540, val_acc: 0.3398\n",
      "Epoch [122], val_loss: 4.8514, val_acc: 0.3398\n",
      "Epoch [123], val_loss: 4.8489, val_acc: 0.3398\n",
      "Epoch [124], val_loss: 4.8461, val_acc: 0.3398\n",
      "Epoch [125], val_loss: 4.8437, val_acc: 0.3398\n",
      "Epoch [126], val_loss: 4.8412, val_acc: 0.3398\n",
      "Epoch [127], val_loss: 4.8388, val_acc: 0.3398\n",
      "Epoch [128], val_loss: 4.8361, val_acc: 0.3398\n",
      "Epoch [129], val_loss: 4.8333, val_acc: 0.3398\n",
      "Epoch [130], val_loss: 4.8307, val_acc: 0.3398\n",
      "Epoch [131], val_loss: 4.8280, val_acc: 0.3398\n",
      "Epoch [132], val_loss: 4.8258, val_acc: 0.3398\n",
      "Epoch [133], val_loss: 4.8239, val_acc: 0.3398\n",
      "Epoch [134], val_loss: 4.8217, val_acc: 0.3398\n",
      "Epoch [135], val_loss: 4.8191, val_acc: 0.3398\n",
      "Epoch [136], val_loss: 4.8164, val_acc: 0.3398\n",
      "Epoch [137], val_loss: 4.8140, val_acc: 0.3398\n",
      "Epoch [138], val_loss: 4.8110, val_acc: 0.3398\n",
      "Epoch [139], val_loss: 4.8088, val_acc: 0.3398\n",
      "Epoch [140], val_loss: 4.8067, val_acc: 0.3398\n",
      "Epoch [141], val_loss: 4.8044, val_acc: 0.3398\n",
      "Epoch [142], val_loss: 4.8013, val_acc: 0.3398\n",
      "Epoch [143], val_loss: 4.7989, val_acc: 0.3398\n",
      "Epoch [144], val_loss: 4.7967, val_acc: 0.3398\n",
      "Epoch [145], val_loss: 4.7942, val_acc: 0.3398\n",
      "Epoch [146], val_loss: 4.7915, val_acc: 0.3398\n",
      "Epoch [147], val_loss: 4.7890, val_acc: 0.3398\n",
      "Epoch [148], val_loss: 4.7868, val_acc: 0.3398\n",
      "Epoch [149], val_loss: 4.7847, val_acc: 0.3398\n",
      "Epoch [150], val_loss: 4.7819, val_acc: 0.3398\n",
      "Epoch [151], val_loss: 4.7794, val_acc: 0.3377\n",
      "Epoch [152], val_loss: 4.7770, val_acc: 0.3377\n",
      "Epoch [153], val_loss: 4.7750, val_acc: 0.3398\n",
      "Epoch [154], val_loss: 4.7730, val_acc: 0.3398\n",
      "Epoch [155], val_loss: 4.7708, val_acc: 0.3398\n",
      "Epoch [156], val_loss: 4.7688, val_acc: 0.3419\n",
      "Epoch [157], val_loss: 4.7661, val_acc: 0.3398\n",
      "Epoch [158], val_loss: 4.7640, val_acc: 0.3398\n",
      "Epoch [159], val_loss: 4.7615, val_acc: 0.3398\n",
      "Epoch [160], val_loss: 4.7591, val_acc: 0.3398\n",
      "Epoch [161], val_loss: 4.7571, val_acc: 0.3398\n",
      "Epoch [162], val_loss: 4.7549, val_acc: 0.3419\n",
      "Epoch [163], val_loss: 4.7524, val_acc: 0.3398\n",
      "Epoch [164], val_loss: 4.7501, val_acc: 0.3419\n",
      "Epoch [165], val_loss: 4.7481, val_acc: 0.3419\n",
      "Epoch [166], val_loss: 4.7461, val_acc: 0.3419\n",
      "Epoch [167], val_loss: 4.7433, val_acc: 0.3419\n",
      "Epoch [168], val_loss: 4.7412, val_acc: 0.3440\n",
      "Epoch [169], val_loss: 4.7389, val_acc: 0.3440\n",
      "Epoch [170], val_loss: 4.7367, val_acc: 0.3440\n",
      "Epoch [171], val_loss: 4.7347, val_acc: 0.3419\n",
      "Epoch [172], val_loss: 4.7329, val_acc: 0.3440\n",
      "Epoch [173], val_loss: 4.7307, val_acc: 0.3461\n",
      "Epoch [174], val_loss: 4.7286, val_acc: 0.3461\n",
      "Epoch [175], val_loss: 4.7259, val_acc: 0.3461\n",
      "Epoch [176], val_loss: 4.7236, val_acc: 0.3481\n",
      "Epoch [177], val_loss: 4.7217, val_acc: 0.3481\n",
      "Epoch [178], val_loss: 4.7196, val_acc: 0.3481\n",
      "Epoch [179], val_loss: 4.7181, val_acc: 0.3481\n",
      "Epoch [180], val_loss: 4.7157, val_acc: 0.3481\n",
      "Epoch [181], val_loss: 4.7137, val_acc: 0.3481\n",
      "Epoch [182], val_loss: 4.7116, val_acc: 0.3481\n",
      "Epoch [183], val_loss: 4.7094, val_acc: 0.3461\n",
      "Epoch [184], val_loss: 4.7076, val_acc: 0.3481\n",
      "Epoch [185], val_loss: 4.7047, val_acc: 0.3461\n",
      "Epoch [186], val_loss: 4.7028, val_acc: 0.3461\n",
      "Epoch [187], val_loss: 4.7005, val_acc: 0.3461\n",
      "Epoch [188], val_loss: 4.6984, val_acc: 0.3440\n",
      "Epoch [189], val_loss: 4.6965, val_acc: 0.3440\n",
      "Epoch [190], val_loss: 4.6948, val_acc: 0.3481\n",
      "Epoch [191], val_loss: 4.6928, val_acc: 0.3481\n",
      "Epoch [192], val_loss: 4.6905, val_acc: 0.3461\n",
      "Epoch [193], val_loss: 4.6886, val_acc: 0.3461\n",
      "Epoch [194], val_loss: 4.6866, val_acc: 0.3481\n",
      "Epoch [195], val_loss: 4.6842, val_acc: 0.3440\n",
      "Epoch [196], val_loss: 4.6822, val_acc: 0.3461\n",
      "Epoch [197], val_loss: 4.6810, val_acc: 0.3502\n",
      "Epoch [198], val_loss: 4.6787, val_acc: 0.3481\n",
      "Epoch [199], val_loss: 4.6769, val_acc: 0.3502\n"
     ]
    }
   ],
   "source": [
    "history = fit(200, 1e-9, model, train_loader, val_loader)"
   ]
  },
  {
   "cell_type": "code",
   "execution_count": 151,
   "id": "f6623207-f526-482f-9a15-832116ad2fec",
   "metadata": {
    "tags": []
   },
   "outputs": [
    {
     "data": {
      "image/png": "[encoded data removed]",
      "text/plain": [
       "<Figure size 640x480 with 1 Axes>"
      ]
     },
     "metadata": {},
     "output_type": "display_data"
    }
   ],
   "source": [
    "accuracies = [r['val_acc'] for r in history]\n",
    "plt.plot(accuracies, '-x')\n",
    "plt.xlabel('epoch')\n",
    "plt.ylabel('accuracy')\n",
    "plt.title('Accuracy vs. No. of epochs');"
   ]
  },
  {
   "cell_type": "code",
   "execution_count": 152,
   "id": "d3656d78-b6bb-485d-99e6-69f24677111b",
   "metadata": {
    "tags": []
   },
   "outputs": [
    {
     "data": {
      "image/png": "[encoded data removed]",
      "text/plain": [
       "<Figure size 640x480 with 1 Axes>"
      ]
     },
     "metadata": {},
     "output_type": "display_data"
    }
   ],
   "source": [
    "losses = [r['val_loss'] for r in history]\n",
    "plt.plot(losses)\n",
    "plt.xlabel('epoch')\n",
    "plt.ylabel('loss')\n",
    "plt.title('Loss vs. No. of epochs');"
   ]
  },
  {
   "cell_type": "code",
   "execution_count": 154,
   "id": "aa1c1c20-4a6c-4bba-8bc5-66b820de82f9",
   "metadata": {
    "tags": []
   },
   "outputs": [
    {
     "data": {
      "text/plain": [
       "{'val_loss': 4.4800591468811035, 'val_acc': 0.3333333432674408}"
      ]
     },
     "execution_count": 154,
     "metadata": {},
     "output_type": "execute_result"
    }
   ],
   "source": [
    "result_2 = evaluate(model, test_loader)\n",
    "result_2"
   ]
  }
 ],
 "metadata": {
  "kernelspec": {
   "display_name": "Python 3 (ipykernel)",
   "language": "python",
   "name": "python3"
  },
  "language_info": {
   "codemirror_mode": {
    "name": "ipython",
    "version": 3
   },
   "file_extension": ".py",
   "mimetype": "text/x-python",
   "name": "python",
   "nbconvert_exporter": "python",
   "pygments_lexer": "ipython3",
   "version": "3.11.5"
  }
 },
 "nbformat": 4,
 "nbformat_minor": 5
}
